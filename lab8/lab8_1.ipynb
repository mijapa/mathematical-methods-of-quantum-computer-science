{
 "cells": [
  {
   "cell_type": "code",
   "execution_count": 39,
   "metadata": {
    "collapsed": true,
    "pycharm": {
     "name": "#%%\n"
    }
   },
   "outputs": [],
   "source": [
    "import seaborn as sns\n",
    "%matplotlib inline\n",
    "import pandas as pd"
   ]
  },
  {
   "cell_type": "markdown",
   "source": [
    "prosty program wyliczająkcy kolejne reszty b^x mod N"
   ],
   "metadata": {
    "collapsed": false,
    "pycharm": {
     "name": "#%% md\n"
    }
   }
  },
  {
   "cell_type": "code",
   "execution_count": 40,
   "outputs": [],
   "source": [
    "b = 4\n",
    "N = 55\n",
    "rows_list = []\n",
    "for x in range(0,100):\n",
    "    p = pow(b, x) % N\n",
    "    dict = {\"x\" :x, \"rmod\" : p}\n",
    "    rows_list.append(dict)\n",
    "\n",
    "df = pd.DataFrame(rows_list)"
   ],
   "metadata": {
    "collapsed": false,
    "pycharm": {
     "name": "#%%\n"
    }
   }
  },
  {
   "cell_type": "code",
   "execution_count": 44,
   "outputs": [
    {
     "data": {
      "text/plain": "<Figure size 1440x576 with 1 Axes>",
      "image/png": "[encoded data removed]"
     },
     "metadata": {
      "needs_background": "light"
     },
     "output_type": "display_data"
    }
   ],
   "source": [
    "g = sns.scatterplot(x=df[\"x\"], y=df[\"rmod\"])\n",
    "g.set_title(\"Reszty 4^x mod 55\")\n",
    "g.set(ylabel='4^x mod 55')\n",
    "g.set(xlabel='x')\n",
    "g.figure.set_size_inches(20,8)"
   ],
   "metadata": {
    "collapsed": false,
    "pycharm": {
     "name": "#%%\n"
    }
   }
  },
  {
   "cell_type": "markdown",
   "source": [
    "znalezienie okresu na komputeerze klasycznym nie sprawia trudności\n",
    "\n",
    "na wykresie możemy łatwo zaobserwować, że okres wynosi 10"
   ],
   "metadata": {
    "collapsed": false,
    "pycharm": {
     "name": "#%% md\n"
    }
   }
  },
  {
   "cell_type": "code",
   "execution_count": 42,
   "outputs": [
    {
     "name": "stdout",
     "output_type": "stream",
     "text": [
      "     x  rmod\n",
      "0    0     1\n",
      "1    1     4\n",
      "2    2    16\n",
      "3    3     9\n",
      "4    4    36\n",
      "5    5    34\n",
      "6    6    26\n",
      "7    7    49\n",
      "8    8    31\n",
      "9    9    14\n",
      "10  10     1\n",
      "11  11     4\n",
      "12  12    16\n",
      "13  13     9\n",
      "14  14    36\n",
      "15  15    34\n",
      "16  16    26\n",
      "17  17    49\n",
      "18  18    31\n",
      "19  19    14\n",
      "20  20     1\n",
      "21  21     4\n",
      "22  22    16\n",
      "23  23     9\n",
      "24  24    36\n",
      "25  25    34\n",
      "26  26    26\n",
      "27  27    49\n",
      "28  28    31\n",
      "29  29    14\n",
      "30  30     1\n",
      "31  31     4\n",
      "32  32    16\n",
      "33  33     9\n",
      "34  34    36\n",
      "35  35    34\n",
      "36  36    26\n",
      "37  37    49\n",
      "38  38    31\n",
      "39  39    14\n",
      "40  40     1\n",
      "41  41     4\n",
      "42  42    16\n",
      "43  43     9\n",
      "44  44    36\n",
      "45  45    34\n",
      "46  46    26\n",
      "47  47    49\n",
      "48  48    31\n",
      "49  49    14\n",
      "50  50     1\n",
      "51  51     4\n",
      "52  52    16\n",
      "53  53     9\n",
      "54  54    36\n",
      "55  55    34\n",
      "56  56    26\n",
      "57  57    49\n",
      "58  58    31\n",
      "59  59    14\n",
      "60  60     1\n",
      "61  61     4\n",
      "62  62    16\n",
      "63  63     9\n",
      "64  64    36\n",
      "65  65    34\n",
      "66  66    26\n",
      "67  67    49\n",
      "68  68    31\n",
      "69  69    14\n",
      "70  70     1\n",
      "71  71     4\n",
      "72  72    16\n",
      "73  73     9\n",
      "74  74    36\n",
      "75  75    34\n",
      "76  76    26\n",
      "77  77    49\n",
      "78  78    31\n",
      "79  79    14\n",
      "80  80     1\n",
      "81  81     4\n",
      "82  82    16\n",
      "83  83     9\n",
      "84  84    36\n",
      "85  85    34\n",
      "86  86    26\n",
      "87  87    49\n",
      "88  88    31\n",
      "89  89    14\n",
      "90  90     1\n",
      "91  91     4\n",
      "92  92    16\n",
      "93  93     9\n",
      "94  94    36\n",
      "95  95    34\n",
      "96  96    26\n",
      "97  97    49\n",
      "98  98    31\n",
      "99  99    14\n"
     ]
    }
   ],
   "source": [
    "print(df.to_string())"
   ],
   "metadata": {
    "collapsed": false,
    "pycharm": {
     "name": "#%%\n"
    }
   }
  }
 ],
 "metadata": {
  "kernelspec": {
   "name": "python3",
   "language": "python",
   "display_name": "Python 3"
  },
  "language_info": {
   "codemirror_mode": {
    "name": "ipython",
    "version": 2
   },
   "file_extension": ".py",
   "mimetype": "text/x-python",
   "name": "python",
   "nbconvert_exporter": "python",
   "pygments_lexer": "ipython2",
   "version": "2.7.6"
  }
 },
 "nbformat": 4,
 "nbformat_minor": 0
}