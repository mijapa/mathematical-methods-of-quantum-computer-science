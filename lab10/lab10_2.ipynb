{
 "cells": [
  {
   "cell_type": "code",
   "execution_count": 782,
   "metadata": {
    "collapsed": true
   },
   "outputs": [],
   "source": [
    "import numpy as np\n",
    "from qiskit import *\n",
    "%matplotlib inline\n",
    "import matplotlib.pyplot as plt\n",
    "import math\n",
    "shots = 4096\n",
    "pi = math.pi"
   ]
  },
  {
   "cell_type": "markdown",
   "source": [
    "# Algorytm Grovera dla n=3\n",
    "implementacja bez optymalizacji"
   ],
   "metadata": {
    "collapsed": false,
    "pycharm": {
     "name": "#%% md\n"
    }
   }
  },
  {
   "cell_type": "markdown",
   "source": [
    "### Ilość iteracji\n",
    "obliczana jest jako liczba całkowita powstała po zaokrągleniu wyniu obliczeń pi/4 * sqrt(2^szer), szer  - ilość bitów rejestru wejściowego"
   ],
   "metadata": {
    "collapsed": false,
    "pycharm": {
     "name": "#%% md\n"
    }
   }
  },
  {
   "cell_type": "code",
   "execution_count": 783,
   "outputs": [
    {
     "name": "stdout",
     "output_type": "stream",
     "text": [
      "potrzebna ilość iteracji: 2\n"
     ]
    }
   ],
   "source": [
    "szerokosc = 3\n",
    "iteracje = (pi/4 * math.sqrt(math.pow(2,szerokosc))).__int__()\n",
    "print(\"potrzebna ilość iteracji: {}\".format(iteracje))"
   ],
   "metadata": {
    "collapsed": false,
    "pycharm": {
     "name": "#%%\n"
    }
   }
  },
  {
   "cell_type": "markdown",
   "source": [
    "### Bramka cccZ\n",
    "\n",
    "Bramka cccZ zaproponowana przez\n",
    "\n",
    "PHILIP STRÖMBERG oraz\n",
    "VERA BLOMKVIST KARLSSON\n",
    "\n",
    "w pracy\n",
    "\n",
    "4-qubit Grover’s algorithm\n",
    "implemented for the ibmqx5\n",
    "architecture"
   ],
   "metadata": {
    "collapsed": false,
    "pycharm": {
     "name": "#%% md\n",
     "is_executing": false
    }
   }
  },
  {
   "cell_type": "code",
   "execution_count": 784,
   "outputs": [
    {
     "data": {
      "text/plain": "<Figure size 960.792x264.88 with 1 Axes>",
      "image/png": "[encoded data removed]"
     },
     "execution_count": 784,
     "metadata": {},
     "output_type": "execute_result"
    }
   ],
   "source": [
    "circ = QuantumCircuit(4, name='cccZ')\n",
    "\n",
    "circ.cu1(pi/4, 0, 3)\n",
    "circ.cx(0, 1)\n",
    "circ.cu1(-pi/4, 1, 3)\n",
    "circ.cx(0, 1)\n",
    "circ.cu1(pi/4, 1, 3)\n",
    "circ.cx(1, 2)\n",
    "circ.cu1(-pi/4, 2, 3)\n",
    "circ.cx(0, 2)\n",
    "circ.cu1(pi/4, 2, 3)\n",
    "circ.cx(1, 2)\n",
    "circ.cu1(-pi/4, 2, 3)\n",
    "circ.cx(0, 2)\n",
    "circ.cu1(pi/4, 2, 3)\n",
    "\n",
    "cccZ = circ.to_instruction()\n",
    "\n",
    "circ.draw()"
   ],
   "metadata": {
    "collapsed": false,
    "pycharm": {
     "name": "#%%\n"
    }
   }
  },
  {
   "cell_type": "markdown",
   "source": [
    "### Wyrocznia\n",
    "#### wyróżniająca liczbę 2\n",
    "\n",
    "Po przejściu przez wyrocznię szukana liczba jest oznaczana poprzez znak przeciwny do pozostałych amplitud."
   ],
   "metadata": {
    "collapsed": false,
    "pycharm": {
     "name": "#%% md\n"
    }
   }
  },
  {
   "cell_type": "code",
   "execution_count": 785,
   "outputs": [
    {
     "data": {
      "text/plain": "<Figure size 418.992x264.88 with 1 Axes>",
      "image/png": "[encoded data removed]"
     },
     "execution_count": 785,
     "metadata": {},
     "output_type": "execute_result"
    }
   ],
   "source": [
    "circ = QuantumCircuit(4, name='oracle')\n",
    "circ.x(0)\n",
    "circ.x(2)\n",
    "\n",
    "circ.append(cccZ,[0,1,2,3])\n",
    "circ.x(0)\n",
    "circ.x(2)\n",
    "\n",
    "\n",
    "oracle = circ.to_instruction()\n",
    "\n",
    "circ.draw()"
   ],
   "metadata": {
    "collapsed": false,
    "pycharm": {
     "name": "#%%\n"
    }
   }
  },
  {
   "cell_type": "markdown",
   "source": [
    "### Inwersja\n",
    "\n",
    "Inwersja wzmacnia amplitudę oznaczoną przez wyrocznię."
   ],
   "metadata": {
    "collapsed": false,
    "pycharm": {
     "name": "#%% md\n"
    }
   }
  },
  {
   "cell_type": "code",
   "execution_count": 786,
   "outputs": [
    {
     "data": {
      "text/plain": "<Figure size 659.792x204.68 with 1 Axes>",
      "image/png": "[encoded data removed]"
     },
     "execution_count": 786,
     "metadata": {},
     "output_type": "execute_result"
    }
   ],
   "source": [
    "circ = QuantumCircuit(3, name='inversion')\n",
    "\n",
    "circ.h(0)\n",
    "circ.h(1)\n",
    "circ.h(2)\n",
    "# circ.h(3)\n",
    "\n",
    "circ.x(0)\n",
    "circ.x(1)\n",
    "circ.x(2)\n",
    "# circ.x(3)\n",
    "\n",
    "circ.h(2)\n",
    "# circ.append(cccZ,[0,1,2,3])\n",
    "circ.toffoli(0,1,2)\n",
    "circ.h(2)\n",
    "\n",
    "circ.barrier()\n",
    "\n",
    "circ.x(0)\n",
    "circ.x(1)\n",
    "circ.x(2)\n",
    "# circ.x(3)\n",
    "\n",
    "circ.h(0)\n",
    "circ.h(1)\n",
    "circ.h(2)\n",
    "# circ.h(3)\n",
    "\n",
    "inversion = circ.to_instruction()\n",
    "\n",
    "circ.draw()"
   ],
   "metadata": {
    "collapsed": false,
    "pycharm": {
     "name": "#%%\n"
    }
   }
  },
  {
   "cell_type": "code",
   "execution_count": 787,
   "outputs": [],
   "source": [
    "def printAmps(circ, i, j):\n",
    "    from qiskit import Aer\n",
    "    backend = Aer.get_backend('statevector_simulator')\n",
    "    job = execute(circ, backend)\n",
    "    result = job.result()\n",
    "\n",
    "    ket = result.get_statevector(circ, decimals=6)\n",
    "\n",
    "    print(\"Amplitudy po {} {}:\".format(i, j))\n",
    "    for amplitude in ket:\n",
    "        print(amplitude)\n",
    "    print(\"\")"
   ],
   "metadata": {
    "collapsed": false,
    "pycharm": {
     "name": "#%%\n"
    }
   }
  },
  {
   "cell_type": "code",
   "execution_count": 788,
   "outputs": [
    {
     "name": "stdout",
     "output_type": "stream",
     "text": [
      "Amplitudy po 1 wyroczni:\n",
      "0j\n",
      "0j\n",
      "(0.353553-0j)\n",
      "0j\n",
      "0j\n",
      "0j\n",
      "0j\n",
      "0j\n",
      "(0.353553-0j)\n",
      "(0.353553-0j)\n",
      "(-0+0j)\n",
      "(0.353553-0j)\n",
      "(0.353553-0j)\n",
      "(0.353553-0j)\n",
      "(0.353553-0j)\n",
      "(0.353553-0j)\n",
      "\n",
      "Amplitudy po 1 inwersji:\n",
      "(-0.25+0j)\n",
      "(-0.25+0j)\n",
      "(-0.25+0j)\n",
      "(-0.25+0j)\n",
      "(-0.25+0j)\n",
      "(-0.25+0j)\n",
      "(-0.25+0j)\n",
      "(-0.25+0j)\n",
      "(0.125-0j)\n",
      "(0.125-0j)\n",
      "(0.625-0j)\n",
      "(0.125-0j)\n",
      "(0.125-0j)\n",
      "(0.125-0j)\n",
      "(0.125-0j)\n",
      "(0.125-0j)\n",
      "\n",
      "Amplitudy po 2 wyroczni:\n",
      "(-0.088388+0j)\n",
      "(-0.088388+0j)\n",
      "(-0.618718+0j)\n",
      "(-0.088388+0j)\n",
      "(-0.088388+0j)\n",
      "(-0.088388+0j)\n",
      "(-0.088388+0j)\n",
      "(-0.088388+0j)\n",
      "(-0.265165+0j)\n",
      "(-0.265165+0j)\n",
      "(0.265165-0j)\n",
      "(-0.265165+0j)\n",
      "(-0.265165+0j)\n",
      "(-0.265165+0j)\n",
      "(-0.265165+0j)\n",
      "(-0.265165+0j)\n",
      "\n",
      "Amplitudy po 2 inwersji:\n",
      "(0.25-0j)\n",
      "(0.25-0j)\n",
      "(0.25-0j)\n",
      "(0.25-0j)\n",
      "(0.25-0j)\n",
      "(0.25-0j)\n",
      "(0.25-0j)\n",
      "(0.25-0j)\n",
      "(0.0625-0j)\n",
      "(0.0625-0j)\n",
      "(-0.6875+0j)\n",
      "(0.0625-0j)\n",
      "(0.0625-0j)\n",
      "(0.0625-0j)\n",
      "(0.0625-0j)\n",
      "(0.0625-0j)\n",
      "\n",
      "\n"
     ]
    }
   ],
   "source": [
    "# noinspection JupyterKernel\n",
    "circ = QuantumCircuit(4)\n",
    "circ.x(3)\n",
    "circ.barrier()\n",
    "circ.h(0)\n",
    "circ.h(1)\n",
    "circ.h(2)\n",
    "circ.h(3)\n",
    "circ.barrier()\n",
    "\n",
    "for i in range(1, iteracje+1):\n",
    "    # wyrocznia\n",
    "    circ.append(oracle,[0,1,2,3])\n",
    "    circ.h(3)\n",
    "    circ.barrier()\n",
    "    printAmps(circ, i, 'wyroczni')\n",
    "    circ.h(3)\n",
    "    circ.barrier()\n",
    "    # inwersja\n",
    "    circ.append(inversion,[0,1,2])\n",
    "    printAmps(circ, i, 'inwersji')\n",
    "    \n",
    "circ.barrier()\n",
    "# neguję rejestr wyjściowy, aby w wyniku symulacji dostać szukaną liczbę nie powiększoną o 8\n",
    "circ.x(3)\n",
    "print(\"\")"
   ],
   "metadata": {
    "collapsed": false,
    "pycharm": {
     "name": "#%%\n"
    }
   }
  },
  {
   "cell_type": "markdown",
   "source": [
    "Po pierwszej wyroczni obserwujemy oznaczenie amplitudy szukanej liczby minusem, podczas gdy pozostałe amplitudy są dodatnie.\n",
    "Pierwsza inwersja wzmacnia amplitudę wskazaną przez wyrocznię.\n",
    "Z dokonanych obliczeń wiemy, że dla 3 bitowego rejestru wejściowego potrzebne sa dwie iteracjie Grovera.\n",
    "Przejście przez wyrocznię ponownie oznacza minusem wyróżnioną amplitude.\n",
    "Kolejna iteracja wzmacnia, już tylko nieznacznie, wskazaną amplitudę."
   ],
   "metadata": {
    "collapsed": false,
    "pycharm": {
     "name": "#%% md\n"
    }
   }
  },
  {
   "cell_type": "markdown",
   "source": [
    "### Cały algorytm Grovera\n",
    "dodatkowa negacja rejestru wyjściowego pozwala na bezpośrednie odczytanie wyniku z wykresu"
   ],
   "metadata": {
    "collapsed": false,
    "pycharm": {
     "name": "#%% md\n"
    }
   }
  },
  {
   "cell_type": "code",
   "execution_count": 789,
   "outputs": [
    {
     "data": {
      "text/plain": "<Figure size 1683.19x686.28 with 1 Axes>",
      "image/png": "[encoded data removed]"
     },
     "execution_count": 789,
     "metadata": {},
     "output_type": "execute_result"
    }
   ],
   "source": [
    "circ.measure_all()\n",
    "\n",
    "circ.draw()\n"
   ],
   "metadata": {
    "collapsed": false,
    "pycharm": {
     "name": "#%%\n"
    }
   }
  },
  {
   "cell_type": "markdown",
   "source": [
    "### Wyniki symulacji"
   ],
   "metadata": {
    "collapsed": false,
    "pycharm": {
     "name": "#%% md\n"
    }
   }
  },
  {
   "cell_type": "code",
   "execution_count": 790,
   "outputs": [
    {
     "name": "stdout",
     "output_type": "stream",
     "text": [
      "{'1010': 282, '0010': 1926, '1101': 281, '1000': 254, '1111': 282, '0001': 23, '0011': 13, '1001': 233, '0110': 9, '1011': 240, '0000': 22, '0101': 20, '0111': 11, '1100': 255, '1110': 231, '0100': 14}\n"
     ]
    },
    {
     "data": {
      "text/plain": "<Figure size 504x360 with 1 Axes>",
      "image/png": "[encoded data removed]"
     },
     "execution_count": 790,
     "metadata": {},
     "output_type": "execute_result"
    }
   ],
   "source": [
    "\n",
    "\n",
    "backend_sim = Aer.get_backend('qasm_simulator')\n",
    "job_sim = execute(circ, backend_sim, shots=shots)\n",
    "result_sim = job_sim.result()\n",
    "counts = result_sim.get_counts(circ)\n",
    "print(counts)\n",
    "from qiskit.visualization import plot_histogram\n",
    "plot_histogram(counts)"
   ],
   "metadata": {
    "collapsed": false,
    "pycharm": {
     "name": "#%%\n"
    }
   }
  },
  {
   "cell_type": "markdown",
   "source": [
    "Wynik symulacji jest zgodny z oczekiwaniem. Algorytm po 2 iteracjach znalazł właściwe rozwiązanie - oznaczona przez wyrocznię była liczba 2.\n",
    "\n"
   ],
   "metadata": {
    "collapsed": false,
    "pycharm": {
     "name": "#%% md\n"
    }
   }
  }
 ],
 "metadata": {
  "kernelspec": {
   "name": "qiskit_env",
   "language": "python",
   "display_name": "qiskit_env"
  },
  "language_info": {
   "codemirror_mode": {
    "name": "ipython",
    "version": 2
   },
   "file_extension": ".py",
   "mimetype": "text/x-python",
   "name": "python",
   "nbconvert_exporter": "python",
   "pygments_lexer": "ipython2",
   "version": "2.7.6"
  }
 },
 "nbformat": 4,
 "nbformat_minor": 0
}