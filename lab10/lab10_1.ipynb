{
 "cells": [
  {
   "cell_type": "code",
   "execution_count": 1,
   "metadata": {
    "collapsed": true
   },
   "outputs": [],
   "source": [
    "import numpy as np\n",
    "from qiskit import *\n",
    "%matplotlib inline\n",
    "import matplotlib.pyplot as plt\n",
    "shots = 4096"
   ]
  },
  {
   "cell_type": "markdown",
   "source": [
    "# Algorytm Grovera dla n=2\n",
    "Algorytm Grovera pozwala na wyszukiwanie elementu w zbiorze\n",
    "np. przeszukiwanie nieposortowanej bazy danych.\n",
    "Potrzebuje jedynie około O (sqrt(N)) kroków do rozwiązania problemu, podczas gdy klasycznie potrzeba O(N).\n",
    "Składa się z dwóch części: wyroczni która wyróżnia właściwy element odmiennym znakiem oraz inwersji która wzmacnia amplitudę wyróżnionego elementu.\n",
    "Dla n=2 potrzebna jest tylko jedna iteracja."
   ],
   "metadata": {
    "collapsed": false,
    "pycharm": {
     "name": "#%% md\n"
    }
   }
  },
  {
   "cell_type": "markdown",
   "source": [
    "### Rozwiązanie książkowe"
   ],
   "metadata": {
    "collapsed": false,
    "pycharm": {
     "name": "#%% md\n",
     "is_executing": false
    }
   }
  },
  {
   "cell_type": "code",
   "execution_count": 2,
   "outputs": [
    {
     "data": {
      "text/plain": "<Figure size 1201.59x264.88 with 1 Axes>",
      "image/png": "[encoded data removed]"
     },
     "execution_count": 2,
     "metadata": {},
     "output_type": "execute_result"
    }
   ],
   "source": [
    "# noinspection JupyterKernel\n",
    "circ = QuantumCircuit(3)\n",
    "circ.x(2)\n",
    "circ.barrier()\n",
    "circ.h(0)\n",
    "circ.h(1)\n",
    "circ.h(2)\n",
    "circ.barrier()\n",
    "# wyrocznia\n",
    "circ.toffoli(0,1,2)\n",
    "circ.barrier()\n",
    "# inwersja\n",
    "circ.h(0)\n",
    "circ.h(1)\n",
    "circ.h(2)\n",
    "circ.x(1)\n",
    "circ.x(0)\n",
    "circ.h(1)\n",
    "circ.cnot(0,1)\n",
    "circ.h(1)\n",
    "circ.x(0)\n",
    "circ.x(1)\n",
    "circ.h(0)\n",
    "circ.h(1)\n",
    "\n",
    "circ.measure_all()\n",
    "circ.draw()"
   ],
   "metadata": {
    "collapsed": false,
    "pycharm": {
     "name": "#%%\n"
    }
   }
  },
  {
   "cell_type": "code",
   "execution_count": null,
   "outputs": [
    {
     "name": "stdout",
     "output_type": "stream",
     "text": [
      "{'111': 4096}\n",
      "Job Status: job is queued (1)     "
     ]
    }
   ],
   "source": [
    "backend_sim = Aer.get_backend('qasm_simulator')\n",
    "job_sim = execute(circ, backend_sim, shots=shots)\n",
    "result_sim = job_sim.result()\n",
    "counts = result_sim.get_counts(circ)\n",
    "print(counts)\n",
    "\n",
    "from qiskit import IBMQ\n",
    "IBMQ.load_account()\n",
    "provider = IBMQ.get_provider(group='open')\n",
    "# provider.backends()\n",
    "\n",
    "backend = provider.get_backend('ibmq_london')\n",
    "\n",
    "from qiskit.tools.monitor import job_monitor\n",
    "\n",
    "job_exp = execute(circ, backend=backend, shots=shots)\n",
    "job_monitor(job_exp)\n",
    "\n",
    "result_exp = job_exp.result()\n",
    "counts_exp = result_exp.get_counts(circ)\n",
    "from qiskit.visualization import plot_histogram\n",
    "plot_histogram([counts_exp,counts], legend=['Device', 'Simulator'])\n",
    "#"
   ],
   "metadata": {
    "collapsed": false,
    "pycharm": {
     "name": "#%%\n",
     "is_executing": true
    }
   }
  },
  {
   "cell_type": "markdown",
   "source": [
    "### Rozwiązanie z optymalizacjami qiskit"
   ],
   "metadata": {
    "collapsed": false
   }
  },
  {
   "cell_type": "code",
   "execution_count": null,
   "outputs": [],
   "source": [
    "# noinspection JupyterKernel\n",
    "circq = QuantumCircuit(2)\n",
    "circq.h(0)\n",
    "circq.h(1)\n",
    "circq.barrier()\n",
    "# wyrocznia\n",
    "\n",
    "circq.cz(0,1)\n",
    "\n",
    "circq.barrier()\n",
    "# inwersja\n",
    "circq.h(0)\n",
    "circq.h(1)\n",
    "circq.z(1)\n",
    "circq.z(0)\n",
    "circq.cz(0,1)\n",
    "circq.h(0)\n",
    "circq.h(1)\n",
    "\n",
    "circq.measure_all()\n",
    "circq.draw()"
   ],
   "metadata": {
    "collapsed": false,
    "pycharm": {
     "name": "#%%\n",
     "is_executing": true
    }
   }
  },
  {
   "cell_type": "code",
   "execution_count": null,
   "outputs": [],
   "source": [
    "backend_sim = Aer.get_backend('qasm_simulator')\n",
    "job_sim = execute(circq, backend_sim, shots=shots)\n",
    "result_sim = job_sim.result()\n",
    "countsq = result_sim.get_counts(circq)\n",
    "print(counts)\n",
    "\n",
    "from qiskit import IBMQ\n",
    "IBMQ.load_account()\n",
    "provider = IBMQ.get_provider(group='open')\n",
    "# provider.backends()\n",
    "\n",
    "backend = provider.get_backend('ibmq_london')\n",
    "\n",
    "from qiskit.tools.monitor import job_monitor\n",
    "\n",
    "job_exp = execute(circq, backend=backend, shots=shots)\n",
    "job_monitor(job_exp)\n",
    "\n",
    "result_exp = job_exp.result()\n",
    "counts_expq = result_exp.get_counts(circq)\n",
    "from qiskit.visualization import plot_histogram\n",
    "plot_histogram([counts_expq,countsq], legend=['Device', 'Simulator'])\n",
    "#"
   ],
   "metadata": {
    "collapsed": false,
    "pycharm": {
     "name": "#%%\n",
     "is_executing": true
    }
   }
  },
  {
   "cell_type": "markdown",
   "source": [
    "# Porównanie obu rozwiązań\n",
    "\n",
    "W pierwszym rozwiązaniu wykorzystano 17 bramek kwantowych.\n",
    "W drugim tylko 10."
   ],
   "metadata": {
    "collapsed": false,
    "pycharm": {
     "name": "#%% md\n"
    }
   }
  },
  {
   "cell_type": "code",
   "execution_count": null,
   "outputs": [],
   "source": [
    "fig, ax = plt.subplots(nrows=1, ncols=2, figsize=(15, 5))\n",
    "plot_histogram([counts_exp,counts], ax=ax[0])\n",
    "ax[0].set_title(\"bez optymalizacji\")\n",
    "plot_histogram([counts_expq,countsq], legend=['Device', 'Simulator'], ax=ax[1])\n",
    "ax[1].set_title(\"z optymalizacjami\")\n",
    "fig.tight_layout()\n",
    "fig.subplots_adjust(top=0.9)\n",
    "fig.suptitle(\"Porównanie rozwiązań\")"
   ],
   "metadata": {
    "collapsed": false,
    "pycharm": {
     "name": "#%%\n",
     "is_executing": true
    }
   }
  },
  {
   "cell_type": "markdown",
   "source": [
    "W przypadku symulatora, który nie podlega dekoherencji, wyniki dla obu rozwiązań są jednoznaczne i prawidłowe.\n",
    "Wykorzystanie mniejszej ilości bramek w drugim rozwiązaniu daje znacząco lepsze efekty na rzeczywistym komputerze kwantowym: prawdopodobieństwo prawidłowego wyniku jest ponad dwukrotnie wyższe."
   ],
   "metadata": {
    "collapsed": false,
    "pycharm": {
     "name": "#%% md\n"
    }
   }
  }
 ],
 "metadata": {
  "kernelspec": {
   "name": "qiskit_env",
   "language": "python",
   "display_name": "qiskit_env"
  },
  "language_info": {
   "codemirror_mode": {
    "name": "ipython",
    "version": 2
   },
   "file_extension": ".py",
   "mimetype": "text/x-python",
   "name": "python",
   "nbconvert_exporter": "python",
   "pygments_lexer": "ipython2",
   "version": "2.7.6"
  }
 },
 "nbformat": 4,
 "nbformat_minor": 0
}